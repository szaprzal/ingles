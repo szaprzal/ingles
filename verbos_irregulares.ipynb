{
 "cells": [
  {
   "cell_type": "markdown",
   "metadata": {},
   "source": [
    "# Verbos irregulares"
   ]
  },
  {
   "cell_type": "markdown",
   "metadata": {},
   "source": [
    "Verbos del grupo 1, generalmente de una sola silaba, acabados en -d -t . Son iguales en las tres formas verbales   "
   ]
  },
  {
   "cell_type": "code",
   "execution_count": 11,
   "metadata": {},
   "outputs": [],
   "source": [
    "diccionario_g1 = {\"golpear\": [\"hit,hit,hit\"],\n",
    "                  \"caber\":[\"fit\",\"fit\",\"fit\"],\n",
    "                 \"dejar de, abandonar\":[\"quit\",\"quit\",\"quit\"],\n",
    "                 \"dividirse, partir\": [\"split\",\"split\",\"split\"],\n",
    "                 \"rajar, cortar\":[\"slit\",\"slit\",\"slit\"],\n",
    "                 \"librar,eliminar,liberar\":[\"rid\",\"rid\",\"rid\"],\n",
    "                 \"establecer, ajustar\":[\"set\", \"set\",\"set\"], \n",
    "                 \"mojar\":[\"wet\",\"wet\",\"wet\"],\n",
    "                 \"apostar\":[\"bet\",\"bet\",\"bet\"],\n",
    "                 \"difundir, exparcir\":[\"spread\",\"spread\",\"spread\"],\n",
    "                  \"sudar\": [\"sweat\",\"sweat\",\"sweat\"],\n",
    "                  \"vencer , batir\":[\"beat\",\"beat\",\"beat/beaten\"],\n",
    "                  \"poner\": [\"put\",\"put\",\"put\"],\n",
    "                  \"cortar\":[\"cut\",\"cut\",\"cut\"],\n",
    "                  \"cerrar\":[\"shut\",\"shut\",\"shut\"],\n",
    "                  \"empujar, introducirse\":[\"thrust\",\"thrust\",\"thrust\"],\n",
    "                  \"costar\":[\"cost\",\"cost\",\"cost\"],\n",
    "                  \"herir,lastimar, hacer daño\":[\"hurt\",\"hurt\",\"hurt\"],\n",
    "                  \"estallar, reventar\":[\"burst\",\"burst\",\"burst\"],\n",
    "                 \"emitir, echar\":[\"cast\",\"cast\",\"cast\"],\n",
    "                 \"transmitir\":[\"boradcast\",\"boradcast\",\"boradcast\"],\n",
    "                  \"predecir\":[\"forecast\",\"forecast\",\"forecast\"]\n",
    "                 }"
   ]
  },
  {
   "cell_type": "code",
   "execution_count": 10,
   "metadata": {},
   "outputs": [
    {
     "name": "stdout",
     "output_type": "stream",
     "text": [
      "{'golpear': ['hit,hit,hit'], 'caber': ['fit', 'fit', 'fit'], 'dejar de, abandonar': ['quit', 'quit', 'quit'], 'dividirse, partir': ['split', 'split', 'split'], 'rajar, cortar': ['slit', 'slit', 'slit'], 'librar,eliminar,liberar': ['rid', 'rid', 'rid'], 'establecer, ajustar': ['set', 'set', 'set'], 'mojar': ['wet', 'wet', 'wet'], 'apostar': ['bet', 'bet', 'bet'], 'difundir, exparcir': ['spread', 'spread', 'spread'], 'sudar': ['sweat', 'sweat', 'sweat'], 'vencer , batir': ['beat', 'beat', 'beat/beaten'], 'poner': ['put', 'put', 'put'], 'cortar': ['cut', 'cut', 'cut'], 'cerrar': ['shut', 'shut', 'shut'], 'empujar, introducirse': ['thrust', 'thrust', 'thrust'], 'costar': ['cost', 'cost', 'cost'], 'herir,lastimar, hacer daño': ['hurt', 'hurt', 'hurt'], 'estallar, reventar': ['burst', 'burst', 'burst'], 'emitir, echar': ['cast', 'cast', 'cast'], 'transmitir': ['boradcast', 'boradcast', 'boradcast'], 'predecir': ['forecast', 'forecast', 'forecast']}\n"
     ]
    }
   ],
   "source": [
    "print(diccionario_g1)"
   ]
  },
  {
   "cell_type": "markdown",
   "metadata": {},
   "source": [
    "Verbos del grupo 2, el pasado y el pasado participio son iguales (pero diferentes del infinitivo).\n",
    " - Verbos acabados en -ee(-p-l) pasan a ser -e(-p-l)t\n",
    " - Verbos acabados en -ee(-d-t) pasan a ser  -e(-d -t)\n",
    " - Verbos acabados en -ind pasar a ser -ound\n",
    " - Verbos acabados en -in(-g-k) pasan a ser ser -un(-g-k) "
   ]
  }
 ],
 "metadata": {
  "kernelspec": {
   "display_name": "Python 3",
   "language": "python",
   "name": "python3"
  },
  "language_info": {
   "codemirror_mode": {
    "name": "ipython",
    "version": 3
   },
   "file_extension": ".py",
   "mimetype": "text/x-python",
   "name": "python",
   "nbconvert_exporter": "python",
   "pygments_lexer": "ipython3",
   "version": "3.7.4"
  }
 },
 "nbformat": 4,
 "nbformat_minor": 2
}
